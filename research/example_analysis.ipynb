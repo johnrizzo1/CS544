{
 "cells": [
  {
   "cell_type": "markdown",
   "metadata": {},
   "source": [
    "This notebook is a repeat of the 01-example-patient-heart-failure.ipynb\n",
    "\n",
    "https://github.com/MIT-LCP/mimic-workshop/blob/master/intro_to_mimic/01-example-patient-heart-failure.ipynb"
   ]
  },
  {
   "cell_type": "code",
   "execution_count": 2,
   "metadata": {},
   "outputs": [
    {
     "data": {
      "text/plain": [
       "True"
      ]
     },
     "execution_count": 2,
     "metadata": {},
     "output_type": "execute_result"
    }
   ],
   "source": [
    "import os\n",
    "import csv\n",
    "import time\n",
    "from io import StringIO\n",
    "\n",
    "import psycopg\n",
    "from sqlalchemy import create_engine\n",
    "\n",
    "import pandas as pd \n",
    "import numpy as np\n",
    "import matplotlib.pyplot as plt\n",
    "\n",
    "from dotenv import load_dotenv\n",
    "load_dotenv()"
   ]
  },
  {
   "cell_type": "code",
   "execution_count": 3,
   "metadata": {},
   "outputs": [
    {
     "name": "stdout",
     "output_type": "stream",
     "text": [
      "DBHOST: irl.warthog-trout.ts.net\n",
      "DBUSER: jrizzo\n",
      "DBPORT: 5432\n",
      "DBNAME: mimic\n"
     ]
    }
   ],
   "source": [
    "print(f'DBHOST: {os.environ[\"DBHOST\"]}')\n",
    "print(f'DBUSER: {os.environ[\"DBUSER\"]}')\n",
    "print(f'DBPORT: {os.environ[\"DBPORT\"]}')\n",
    "print(f'DBNAME: {os.environ[\"DBNAME\"]}')\n"
   ]
  },
  {
   "cell_type": "code",
   "execution_count": 6,
   "metadata": {},
   "outputs": [],
   "source": [
    "URI = f'postgresql+psycopg://{os.environ[\"DBUSER\"]}:{os.environ[\"DBPASS\"]}@{os.environ[\"DBHOST\"]}:{os.environ[\"DBPORT\"]}/{os.environ[\"DBNAME\"]}'\n",
    "QUERY = '''\n",
    "    select ce.*, ie.*, di.*, ad.*, p.*\n",
    "    from mimiciii.chartevents ce\n",
    "\t    inner join mimiciii.d_items di\n",
    "\t\t    ON ce.itemid = di.itemid\n",
    "\t    inner join mimiciii.icustays ie\n",
    "\t\t    ON ce.icustay_id = ie.icustay_id\n",
    "\t    inner join mimiciii.admissions ad\n",
    "\t\t    on ce.hadm_id = ad.hadm_id\n",
    "\t    inner join mimiciii.patients p \n",
    "\t\t    on ce.subject_id = p.subject_id\n",
    "    where ce.subject_id in (\n",
    "\t    select a.subject_id\n",
    "\t    from mimiciii.admissions a\n",
    "\t    where a.diagnosis like '%%TRANSPLANT%%'\n",
    "\t    order by a.subject_id asc\n",
    "    )\n",
    "    order by ce.charttime\n",
    "'''"
   ]
  },
  {
   "cell_type": "code",
   "execution_count": 7,
   "metadata": {},
   "outputs": [],
   "source": [
    "engine = create_engine(URI)\n",
    "with engine.connect() as connection:\n",
    "    ce = pd.read_sql_query(QUERY, con=connection, parse_dates=['charttime', 'intime'])"
   ]
  },
  {
   "cell_type": "code",
   "execution_count": 8,
   "metadata": {},
   "outputs": [
    {
     "data": {
      "text/plain": [
       "Index(['row_id', 'subject_id', 'hadm_id', 'icustay_id', 'itemid', 'charttime',\n",
       "       'storetime', 'cgid', 'value', 'valuenum', 'valueuom', 'warning',\n",
       "       'error', 'resultstatus', 'stopped', 'row_id', 'subject_id', 'hadm_id',\n",
       "       'icustay_id', 'dbsource', 'first_careunit', 'last_careunit',\n",
       "       'first_wardid', 'last_wardid', 'intime', 'outtime', 'los', 'row_id',\n",
       "       'itemid', 'label', 'abbreviation', 'dbsource', 'linksto', 'category',\n",
       "       'unitname', 'param_type', 'conceptid', 'row_id', 'subject_id',\n",
       "       'hadm_id', 'admittime', 'dischtime', 'deathtime', 'admission_type',\n",
       "       'admission_location', 'discharge_location', 'insurance', 'language',\n",
       "       'religion', 'marital_status', 'ethnicity', 'edregtime', 'edouttime',\n",
       "       'diagnosis', 'hospital_expire_flag', 'has_chartevents_data', 'row_id',\n",
       "       'subject_id', 'gender', 'dob', 'dod', 'dod_hosp', 'dod_ssn',\n",
       "       'expire_flag'],\n",
       "      dtype='object')"
      ]
     },
     "execution_count": 8,
     "metadata": {},
     "output_type": "execute_result"
    }
   ],
   "source": [
    "ce.keys()"
   ]
  },
  {
   "cell_type": "code",
   "execution_count": 9,
   "metadata": {},
   "outputs": [],
   "source": [
    "ce[\"hours\"] = (ce[\"charttime\"] - ce[\"intime\"]).dt.total_seconds() / 3600"
   ]
  },
  {
   "cell_type": "code",
   "execution_count": 10,
   "metadata": {},
   "outputs": [],
   "source": [
    "# Export the data to a CSV file\n",
    "ce.to_csv('ce.csv', index=False)"
   ]
  },
  {
   "cell_type": "markdown",
   "metadata": {},
   "source": [
    "Did the patient's vital signs breach any alarm thresholds?"
   ]
  },
  {
   "cell_type": "code",
   "execution_count": null,
   "metadata": {},
   "outputs": [],
   "source": [
    "# Set x equal to the times\n",
    "x_hr = ce.hours[ce.label=='Heart Rate']\n",
    "\n",
    "# Set y equal to the heart rates\n",
    "y_hr = ce.valuenum[ce.label=='Heart Rate']\n",
    "\n",
    "# Plot time against heart rate\n",
    "plt.figure(figsize=(14, 6))\n",
    "plt.plot(x_hr,y_hr)\n",
    "\n",
    "\n",
    "plt.xlabel('Time',fontsize=16)\n",
    "plt.ylabel('Heart rate',fontsize=16)\n",
    "plt.title('Heart rate over time from admission to the intensive care unit')"
   ]
  },
  {
   "cell_type": "code",
   "execution_count": null,
   "metadata": {},
   "outputs": [],
   "source": [
    "plt.figure(figsize=(14, 6))\n",
    "\n",
    "plt.plot(ce.hours[ce.label=='Respiratory Rate'], \n",
    "         ce.valuenum[ce.label=='Respiratory Rate'],\n",
    "         'k+', markersize=10, linewidth=4)\n",
    "\n",
    "plt.plot(ce.hours[ce.label=='Resp Alarm - High'], \n",
    "         ce.valuenum[ce.label=='Resp Alarm - High'],\n",
    "         'm--')\n",
    "\n",
    "plt.plot(ce.hours[ce.label=='Resp Alarm - Low'], \n",
    "         ce.valuenum[ce.label=='Resp Alarm - Low'],\n",
    "         'm--')\n",
    "\n",
    "plt.xlabel('Time',fontsize=16)\n",
    "plt.ylabel('Respiratory rate',fontsize=16)\n",
    "plt.title('Respiratory rate over time from admission, with upper and lower alarm thresholds')\n",
    "plt.ylim(0,55)"
   ]
  },
  {
   "cell_type": "markdown",
   "metadata": {},
   "source": [
    "What is patient's level of consciousness?"
   ]
  },
  {
   "cell_type": "code",
   "execution_count": null,
   "metadata": {},
   "outputs": [],
   "source": [
    "# Display the first few rows of the GCS eye response data\n",
    "ce[ce.label=='GCS - Eye Opening'].head()"
   ]
  },
  {
   "cell_type": "code",
   "execution_count": null,
   "metadata": {},
   "outputs": [],
   "source": [
    "# Prepare the size of the figure\n",
    "plt.figure(figsize=(18, 10))\n",
    "\n",
    "# Set x equal to the times\n",
    "x_hr = ce.hours[ce.label=='Heart Rate']\n",
    "\n",
    "# Set y equal to the heart rates\n",
    "y_hr = ce.valuenum[ce.label=='Heart Rate']\n",
    "\n",
    "\n",
    "plt.plot(x_hr,y_hr)\n",
    "\n",
    "plt.plot(ce.hours[ce.label=='Respiratory Rate'], \n",
    "         ce.valuenum[ce.label=='Respiratory Rate'],\n",
    "         'k', markersize=6)\n",
    "\n",
    "# Add a text label to the y-axis\n",
    "plt.text(-20,155,'GCS - Eye Opening',fontsize=14)\n",
    "plt.text(-20,150,'GCS - Motor Response',fontsize=14)\n",
    "plt.text(-20,145,'GCS - Verbal Response',fontsize=14)   \n",
    "\n",
    "# Iterate over list of GCS labels, plotting around 1 in 10 to avoid overlap\n",
    "for i, txt in enumerate(ce.value[ce.label=='GCS - Eye Opening'].values):\n",
    "    if np.mod(i,6)==0 and i < 65:\n",
    "        plt.annotate(txt, (ce.hours[ce.label=='GCS - Eye Opening'].values[i],155),fontsize=14)\n",
    "        \n",
    "for i, txt in enumerate(ce.value[ce.label=='GCS - Motor Response'].values):\n",
    "    if np.mod(i,6)==0 and i < 65:\n",
    "        plt.annotate(txt, (ce.hours[ce.label=='GCS - Motor Response'].values[i],150),fontsize=14)\n",
    "\n",
    "for i, txt in enumerate(ce.value[ce.label=='GCS - Verbal Response'].values):\n",
    "    if np.mod(i,6)==0 and i < 65:\n",
    "        plt.annotate(txt, (ce.hours[ce.label=='GCS - Verbal Response'].values[i],145),fontsize=14)\n",
    "\n",
    "plt.title('Vital signs and Glasgow Coma Scale over time from admission',fontsize=16)\n",
    "\n",
    "plt.xlabel('Time (hours)',fontsize=16)\n",
    "plt.ylabel('Heart rate or GCS',fontsize=16)\n",
    "plt.ylim(10,165)"
   ]
  },
  {
   "cell_type": "code",
   "execution_count": 13,
   "metadata": {},
   "outputs": [],
   "source": [
    "# load outputs from the patient\n",
    "query = \"\"\"\n",
    "select de.icustay_id\n",
    "    -- , (strftime('%s',de.charttime)-strftime('%s',ie.intime))/60.0/60.0 as HOURS\n",
    "    , de.charttime\n",
    "    , ie.intime\n",
    "    , di.label\n",
    "    , de.value\n",
    "    , de.valueuom\n",
    "from mimiciii.outputevents de \n",
    "inner join mimiciii.icustays ie\n",
    "    on de.icustay_id = ie.icustay_id\n",
    "inner join mimiciii.d_items di\n",
    "    on de.itemid = di.itemid\n",
    "where de.subject_id = 40080\n",
    "order by charttime;\n",
    "\"\"\"\n",
    "\n",
    "with engine.connect() as connection:\n",
    "    oe = pd.read_sql_query(query, connection)\n",
    "\n",
    "oe[\"hours\"] = (oe[\"charttime\"] - oe[\"intime\"]).dt.total_seconds() / 3600"
   ]
  },
  {
   "cell_type": "code",
   "execution_count": null,
   "metadata": {},
   "outputs": [],
   "source": [
    "oe.head()"
   ]
  },
  {
   "cell_type": "code",
   "execution_count": null,
   "metadata": {},
   "outputs": [],
   "source": [
    "plt.figure(figsize=(14, 10))\n",
    "\n",
    "plt.figure(figsize=(14, 6))\n",
    "plt.title('Fluid output over time')\n",
    "\n",
    "plt.plot(oe.hours, \n",
    "         oe.value.cumsum()/1000, \n",
    "         'ro', markersize=8, label='Output volume, L')\n",
    "\n",
    "plt.xlim(0,72)\n",
    "plt.ylim(0,10)\n",
    "plt.legend()"
   ]
  },
  {
   "cell_type": "code",
   "execution_count": 16,
   "metadata": {},
   "outputs": [],
   "source": [
    "query = \"\"\"\n",
    "select de.icustay_id\n",
    "  -- , (strftime('%s',de.starttime)-strftime('%s',ie.intime))/60.0/60.0 as HOURS_START\n",
    "  -- , (strftime('%s',de.endtime)-strftime('%s',ie.intime))/60.0/60.0 as HOURS_END\n",
    "  , de.starttime\n",
    "  , ie.intime\n",
    "  , de.endtime\n",
    "  , de.linkorderid\n",
    "  , di.label\n",
    "  , de.amount\n",
    "  , de.amountuom\n",
    "  , de.rate\n",
    "  , de.rateuom\n",
    "from mimiciii.inputevents_mv de \n",
    "inner join mimiciii.icustays ie\n",
    "  on de.icustay_id = ie.icustay_id\n",
    "inner join mimiciii.d_items di\n",
    "  on de.itemid = di.itemid\n",
    "where de.subject_id = 40080\n",
    "order by endtime;\n",
    "\"\"\"\n",
    "\n",
    "with engine.connect() as connection:\n",
    "    ie = pd.read_sql_query(query, connection)\n",
    "\n",
    "ie[\"hours_start\"] = (ie[\"starttime\"] - ie[\"intime\"]).dt.total_seconds() / 3600\n",
    "ie[\"hours_end\"] = (ie[\"endtime\"] - ie[\"intime\"]).dt.total_seconds() / 3600"
   ]
  },
  {
   "cell_type": "code",
   "execution_count": null,
   "metadata": {},
   "outputs": [],
   "source": [
    "ie.head()"
   ]
  },
  {
   "cell_type": "code",
   "execution_count": null,
   "metadata": {},
   "outputs": [],
   "source": [
    "ie['label'].unique()"
   ]
  },
  {
   "cell_type": "code",
   "execution_count": null,
   "metadata": {},
   "outputs": [],
   "source": [
    "plt.figure(figsize=(14, 10))\n",
    "\n",
    "# Plot the cumulative input against the cumulative output\n",
    "plt.plot(ie.hours_end[ie.amountuom=='mL'], \n",
    "         ie.amount[ie.amountuom=='mL'].cumsum()/1000, \n",
    "         'go', markersize=8, label='Intake volume, L')\n",
    "\n",
    "plt.plot(oe.hours, \n",
    "         oe.value.cumsum()/1000, \n",
    "         'ro', markersize=8, label='Output volume, L')\n",
    "\n",
    "plt.title('Fluid balance over time',fontsize=16)\n",
    "plt.xlabel('Hours',fontsize=16)\n",
    "plt.ylabel('Volume (litres)',fontsize=16)\n",
    "# plt.ylim(0,38)\n",
    "plt.legend()"
   ]
  },
  {
   "cell_type": "code",
   "execution_count": null,
   "metadata": {},
   "outputs": [],
   "source": []
  }
 ],
 "metadata": {
  "kernelspec": {
   "display_name": "venv",
   "language": "python",
   "name": "python3"
  },
  "language_info": {
   "codemirror_mode": {
    "name": "ipython",
    "version": 3
   },
   "file_extension": ".py",
   "mimetype": "text/x-python",
   "name": "python",
   "nbconvert_exporter": "python",
   "pygments_lexer": "ipython3",
   "version": "3.12.7"
  }
 },
 "nbformat": 4,
 "nbformat_minor": 2
}
