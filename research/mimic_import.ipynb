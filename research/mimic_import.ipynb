{
 "cells": [
  {
   "cell_type": "markdown",
   "metadata": {},
   "source": [
    "This notebook is a repeat of the 01-example-patient-heart-failure.ipynb\n",
    "\n",
    "https://github.com/MIT-LCP/mimic-workshop/blob/master/intro_to_mimic/01-example-patient-heart-failure.ipynb"
   ]
  },
  {
   "cell_type": "code",
   "execution_count": 1,
   "metadata": {},
   "outputs": [
    {
     "data": {
      "text/plain": [
       "True"
      ]
     },
     "execution_count": 1,
     "metadata": {},
     "output_type": "execute_result"
    }
   ],
   "source": [
    "import os\n",
    "import csv\n",
    "import time\n",
    "from io import StringIO\n",
    "\n",
    "import psycopg\n",
    "from sqlalchemy import create_engine\n",
    "\n",
    "from py2neo import Graph, Node, Relationship\n",
    "from tqdm import tqdm  # For progress bars\n",
    "\n",
    "import pandas as pd \n",
    "import numpy as np\n",
    "import matplotlib.pyplot as plt\n",
    "\n",
    "from dotenv import load_dotenv\n",
    "load_dotenv()"
   ]
  },
  {
   "cell_type": "code",
   "execution_count": null,
   "metadata": {},
   "outputs": [],
   "source": [
    "# Step 1: Connect to the Neo4j database\n",
    "graph = Graph(os.environ[\"NEO4J_URI\"], auth=(os.environ[\"NEO4J_USER\"], os.environ[\"NEO4J_PASSWORD\"]))\n",
    "\n",
    "graph.run(\"LOAD CSV WITH HEADERS FROM 'file:///data/edges.csv' AS row \")"
   ]
  }
 ],
 "metadata": {
  "kernelspec": {
   "display_name": "venv",
   "language": "python",
   "name": "python3"
  },
  "language_info": {
   "codemirror_mode": {
    "name": "ipython",
    "version": 3
   },
   "file_extension": ".py",
   "mimetype": "text/x-python",
   "name": "python",
   "nbconvert_exporter": "python",
   "pygments_lexer": "ipython3",
   "version": "3.12.7"
  }
 },
 "nbformat": 4,
 "nbformat_minor": 2
}
